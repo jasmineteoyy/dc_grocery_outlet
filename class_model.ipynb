{
 "cells": [
  {
   "cell_type": "markdown",
   "metadata": {},
   "source": [
    "instructions: run entire notebook after specifying directory variable at the top\n",
    "> model = resnet152"
   ]
  },
  {
   "cell_type": "code",
   "execution_count": 1,
   "metadata": {},
   "outputs": [],
   "source": [
    "directory = \"/home/paperspace/Documents/dc-grocery-outlet-brand/image_splits_v2\""
   ]
  },
  {
   "cell_type": "code",
   "execution_count": 2,
   "metadata": {},
   "outputs": [],
   "source": [
    "#torchvision.__version__"
   ]
  },
  {
   "cell_type": "code",
   "execution_count": 3,
   "metadata": {},
   "outputs": [
    {
     "name": "stderr",
     "output_type": "stream",
     "text": [
      "/home/paperspace/.local/lib/python3.8/site-packages/tqdm/auto.py:22: TqdmWarning: IProgress not found. Please update jupyter and ipywidgets. See https://ipywidgets.readthedocs.io/en/stable/user_install.html\n",
      "  from .autonotebook import tqdm as notebook_tqdm\n"
     ]
    }
   ],
   "source": [
    "import torch\n",
    "import torch.nn as nn\n",
    "import torch.optim as optim\n",
    "from torch.optim import lr_scheduler\n",
    "from torch.utils import data\n",
    "import torch.backends.cudnn as cudnn\n",
    "import numpy as np\n",
    "import torchvision\n",
    "from torchvision import datasets, models, transforms\n",
    "import random\n",
    "from model import *\n",
    "import matplotlib.pyplot as plt\n",
    "import time\n",
    "import os\n",
    "import copy\n",
    "import boto3\n",
    "from PIL import Image\n",
    "\n",
    "import pprint, pickle\n",
    "\n",
    "\n",
    "import pandas as pd\n",
    "import numpy as np\n",
    "from sklearn.model_selection import train_test_split\n",
    "from sklearn.preprocessing import LabelEncoder\n",
    "from tqdm import tqdm\n",
    "\n",
    "import warnings\n",
    "warnings.filterwarnings(\"ignore\")"
   ]
  },
  {
   "cell_type": "code",
   "execution_count": 4,
   "metadata": {},
   "outputs": [],
   "source": [
    "def list_files(d):\n",
    "    r = []\n",
    "    for root, dirs, files in os.walk(d):\n",
    "        for name in files:\n",
    "            r.append(os.path.join(root, name))\n",
    "    return r"
   ]
  },
  {
   "cell_type": "code",
   "execution_count": null,
   "metadata": {},
   "outputs": [],
   "source": []
  },
  {
   "cell_type": "code",
   "execution_count": 5,
   "metadata": {
    "gradient": {
     "editing": false,
     "id": "4bd4e024-b1ca-4eb7-adf6-4eb8f9110816",
     "kernelId": "4f378984-b18d-4458-aec5-11036b1449fe"
    }
   },
   "outputs": [
    {
     "name": "stdout",
     "output_type": "stream",
     "text": [
      "cuda:0\n"
     ]
    }
   ],
   "source": [
    "device = torch.device(\"cuda:0\" if torch.cuda.is_available() else \"cpu\")\n",
    "print(device)\n",
    "\n",
    "# model = models.resnet34(pretrained=True)\n",
    "model = models.resnet152(pretrained=True) # we do not specify pretrained=True, i.e. do not load default weights\n",
    "# model.load_state_dict(torch.load('XNAS/trained_models/xnas_small_cifar10.t7'), strict=False)\n",
    "\n",
    "for param in model.parameters():\n",
    "    param.requires_grad = False\n",
    "    \n",
    "num_ftrs = model.fc.in_features\n",
    "model.fc = nn.Linear(num_ftrs, 83)\n",
    "model = model.to(device)"
   ]
  },
  {
   "cell_type": "code",
   "execution_count": 6,
   "metadata": {},
   "outputs": [],
   "source": [
    "df = pd.read_csv('UPC-Images-Sample-Labeled.csv').drop(['Short Description', 'ItemNumber', 'SubClass', 'Department', 'class_subclass', 'label'], axis = 1)\n",
    "df.Brand = df.Brand.str.lower()\n",
    "df = df.sort_values(by='Brand', ascending=True)\n",
    "no_dupes_df = df.drop_duplicates(\"ImageList\")\n",
    "brand_df = no_dupes_df[no_dupes_df.Brand.notna()]\n",
    "brands_10_or_less = brand_df.groupby('Brand').filter(lambda subdf: len(subdf) <= 10)['Brand']\n",
    "ssssssssssssssssssssssss\n",
    "more_than_10_df = sssssssss[~brand_df['Brand'].isin(brands_10_or_less)]sssssssssssssssssssssssssssssssssssssssssssssssssssssssssssssssssssssssssssssssssssssssssssssssssssssssssssssssssssssssssssssssssssssssssssssssssssssssssssssss\n",
    "# more_than_10_df.Measure = more_than_10_df.Measure.str.lower()\n",
    "# more_than_10_df.Measure = more_than_10_df.Measure.str.replace(' ', '')ssssssssssssssssssssssssssssssssssssssssss\n",
    "\n",
    "measure_to_num = dict(zip(np.unique(more_than_10_df['Class'].values), np.arange(len(np.unique(more_than_10_df['Class'].values)))))\n",
    "# num_to_measure = dict(zip(np.arange(len(np.unique(more_than_10_df['Class'].values))), np.unique(more_than_10_df['Measure'].values)))\n",
    "# measure_to_num.update(num_to_measure)"
   ]
  },
  {
   "cell_type": "code",
   "execution_count": 7,
   "metadata": {},
   "outputs": [
    {
     "data": {
      "text/plain": [
       "{1: 0,\n",
       " 4: 1,\n",
       " 7: 2,\n",
       " 10: 3,\n",
       " 13: 4,\n",
       " 16: 5,\n",
       " 18: 6,\n",
       " 19: 7,\n",
       " 20: 8,\n",
       " 21: 9,\n",
       " 22: 10,\n",
       " 23: 11,\n",
       " 24: 12,\n",
       " 25: 13,\n",
       " 26: 14,\n",
       " 27: 15,\n",
       " 28: 16,\n",
       " 29: 17,\n",
       " 30: 18,\n",
       " 31: 19,\n",
       " 32: 20,\n",
       " 33: 21,\n",
       " 34: 22,\n",
       " 35: 23,\n",
       " 36: 24,\n",
       " 37: 25,\n",
       " 38: 26,\n",
       " 39: 27,\n",
       " 40: 28,\n",
       " 41: 29,\n",
       " 42: 30,\n",
       " 43: 31,\n",
       " 44: 32,\n",
       " 45: 33,\n",
       " 46: 34,\n",
       " 47: 35,\n",
       " 48: 36,\n",
       " 49: 37,\n",
       " 50: 38,\n",
       " 51: 39,\n",
       " 52: 40,\n",
       " 53: 41,\n",
       " 54: 42,\n",
       " 55: 43,\n",
       " 56: 44,\n",
       " 57: 45,\n",
       " 58: 46,\n",
       " 59: 47,\n",
       " 60: 48,\n",
       " 61: 49,\n",
       " 62: 50,\n",
       " 63: 51,\n",
       " 64: 52,\n",
       " 65: 53,\n",
       " 66: 54,\n",
       " 67: 55,\n",
       " 68: 56,\n",
       " 70: 57,\n",
       " 71: 58,\n",
       " 72: 59,\n",
       " 73: 60,\n",
       " 74: 61,\n",
       " 75: 62,\n",
       " 76: 63,\n",
       " 77: 64,\n",
       " 78: 65,\n",
       " 80: 66,\n",
       " 81: 67,\n",
       " 82: 68,\n",
       " 83: 69,\n",
       " 84: 70,\n",
       " 85: 71,\n",
       " 86: 72,\n",
       " 87: 73,\n",
       " 88: 74,\n",
       " 89: 75,\n",
       " 91: 76,\n",
       " 92: 77,\n",
       " 94: 78,\n",
       " 96: 79,\n",
       " 97: 80,\n",
       " 98: 81,\n",
       " 99: 82}"
      ]
     },
     "execution_count": 7,
     "metadata": {},
     "output_type": "execute_result"
    }
   ],
   "source": [
    "measure_to_num"
   ]
  },
  {
   "cell_type": "code",
   "execution_count": null,
   "metadata": {},
   "outputs": [],
   "source": []
  },
  {
   "cell_type": "code",
   "execution_count": 8,
   "metadata": {},
   "outputs": [
    {
     "data": {
      "text/plain": [
       "torch.Size([3, 224, 224])"
      ]
     },
     "execution_count": 8,
     "metadata": {},
     "output_type": "execute_result"
    }
   ],
   "source": [
    "def read_make_image_splits(file):\n",
    "    \"\"\"\n",
    "        given a .pkl file, returns a 3D numpy array\n",
    "    \"\"\"\n",
    "\n",
    "    pkl_file = open(file, 'rb')\n",
    "\n",
    "    data1 = pickle.load(pkl_file)\n",
    "    pkl_file.close()\n",
    "\n",
    "    return data1\n",
    "\n",
    "d = read_make_image_splits(directory + \"/split_0.pkl\")\n",
    "a = d[0, -1]\n",
    "a.shape"
   ]
  },
  {
   "cell_type": "code",
   "execution_count": 9,
   "metadata": {
    "gradient": {
     "editing": false,
     "id": "64b15a06-9d16-4d68-a130-7c6c2d4298ab",
     "kernelId": "4f378984-b18d-4458-aec5-11036b1449fe"
    }
   },
   "outputs": [],
   "source": [
    "def test_model(model, generator):\n",
    "    pbar = tqdm(val_generator)\n",
    "    running_corrects = 0\n",
    "    for step, batch in enumerate(pbar):\n",
    "        model.eval()\n",
    "      # inputs = inputs.to(device)\n",
    "      # labels = labels.to(device)\n",
    "        inputs, labels = batch\n",
    "        inputs = inputs.to(torch.float)\n",
    "        inputs = inputs.to(device)\n",
    "        labels = labels.to(device)\n",
    "\n",
    "      # zero the parameter gradients\n",
    "        optimizer.zero_grad()\n",
    "\n",
    "      # forward\n",
    "      # track history if only in train\n",
    "      # with torch.set_grad_enabled(phase == 'train'):\n",
    "      \n",
    "    \n",
    "      \n",
    "      #print(tuple(images)[0])\n",
    "      # print(labels)\n",
    "        with torch.no_grad():\n",
    "            outputs = model(inputs)\n",
    "            _, preds = torch.max(outputs, 1)\n",
    "            running_corrects += torch.sum(preds == labels.data)\n",
    "            # print(preds)\n",
    "      \n",
    "    epoch_acc = running_corrects / len(val)\n",
    "    return epoch_acc.item()"
   ]
  },
  {
   "cell_type": "markdown",
   "metadata": {
    "gradient": {
     "editing": false,
     "id": "5a091f1f-ae6c-4be7-bccc-ed41441e1497",
     "kernelId": "4f378984-b18d-4458-aec5-11036b1449fe"
    }
   },
   "source": [
    "## train the model"
   ]
  },
  {
   "cell_type": "code",
   "execution_count": 10,
   "metadata": {},
   "outputs": [
    {
     "data": {
      "text/plain": [
       "ToTensor()"
      ]
     },
     "execution_count": 10,
     "metadata": {},
     "output_type": "execute_result"
    }
   ],
   "source": [
    "torchvision.transforms.ToTensor()"
   ]
  },
  {
   "cell_type": "code",
   "execution_count": 11,
   "metadata": {},
   "outputs": [],
   "source": [
    "def preprocess(file):\n",
    "    \"\"\"\n",
    "        given a file, returns generators for training, test, and validation\n",
    "    \"\"\"\n",
    "    \n",
    "    def read_make_image_splits(file):\n",
    "        \"\"\"\n",
    "            given a .pkl file, returns a 3D numpy array\n",
    "        \"\"\"\n",
    "\n",
    "        pkl_file = open(file, 'rb')\n",
    "\n",
    "        data1 = pickle.load(pkl_file)\n",
    "        pkl_file.close()\n",
    "\n",
    "        return data1\n",
    "    \n",
    "    df = pd.DataFrame(read_make_image_splits(file), columns=[\"brand\", \"size\", \"measure\", \"class\", \"long_description\", \"ImageList\", \"image_matrix\", \"image_tensor\"])\n",
    "    df = df.dropna()\n",
    "    \n",
    "\n",
    "    df_class = df[[\"image_tensor\", \"class\"]]\n",
    "    # df_brand[\"image_tensor\"] = df_brand[\"image_matrix\"].map(lambda img: transforms.Resize((224, 224))(torch.permute(torch.tensor(img), (2, 0, 1))))\n",
    "    # df_brand.drop(\"image_matrix\", axis=1, inplace=True)\n",
    "    \n",
    "    # ske = LabelEncoder()\n",
    "    # df_brand.brand = df_brand.brand.str.lower()\n",
    "    # df_brand.brand = df_brand.brand.str.replace(' ', '')\n",
    "    # df_brand[\"brand\"] = df_brand[[\"brand\"]].replace(brand_to_num)[\"brand\"]\n",
    "    # df_brand.brand = df_brand[\"brand\"].astype(int)\n",
    "    \n",
    "    # print(len(df_brand.brand.unique()))\n",
    "    train = list(map(list, zip(df_class[\"image_tensor\"].values, df_class[\"class\"].values)))\n",
    "    \n",
    "    random.shuffle(train)\n",
    "    val_split = int(len(train)*0.8)\n",
    "    test_split = int(len(train)*0.9)\n",
    "    val = train[val_split:test_split]\n",
    "    test = train[test_split:]\n",
    "    train = train[:val_split]\n",
    "    # print(train[0])\n",
    "    # print(train[0][0])\n",
    "    # train, val = train_test_split(train, test_size=0.2)\n",
    "    # train, test = train_test_split(train, test_size=0.1)\n",
    "\n",
    "    train_generator = data.DataLoader(train, batch_size=64)\n",
    "    test_generator = data.DataLoader(test, batch_size=64)\n",
    "    val_generator = data.DataLoader(val, batch_size=64)\n",
    "    \n",
    "    return train_generator, test_generator, val_generator, val"
   ]
  },
  {
   "cell_type": "code",
   "execution_count": 12,
   "metadata": {},
   "outputs": [],
   "source": [
    "\n",
    "def preprocess(df):\n",
    "    \"\"\"\n",
    "        given a file, returns generators for training, test, and validation\n",
    "    \"\"\"\n",
    "    \n",
    "    def read_make_image_splits(file):\n",
    "        \"\"\"\n",
    "            given a .pkl file, returns a 3D numpy array\n",
    "        \"\"\"\n",
    "\n",
    "        pkl_file = open(file, 'rb')\n",
    "\n",
    "        data1 = pickle.load(pkl_file)\n",
    "        pkl_file.close()\n",
    "\n",
    "        return data1\n",
    "    \n",
    "    df = pd.DataFrame(read_make_image_splits(file), columns=[\"brand\", \"size\", \"measure\", \"class\", \"long_description\", \"ImageList\", \"image_matrix\", \"image_tensor\"])\n",
    "    df = df.dropna()\n",
    "    #df['measure'] = df['measure'].str.lower()\n",
    "    #df['measure'] = df['measure'].str.replace(' ', '')\n",
    "    #df['measure'] = df[['measure']].replace(measure_to_num)['measure']\n",
    "\n",
    "    df_class = df[[\"image_tensor\", \"class\"]]\n",
    "\n",
    "    \n",
    "    # df[\"image_tensor\"] = df_brand[\"image_matrix\"].map(lambda img: transforms.Resize((224, 224))(torch.permute(torch.tensor(img), (2, 0, 1))))\n",
    "    # df_brand.drop(\"image_matrix\", axis=1, inplace=True)\n",
    "    \n",
    "    # ske = LabelEncoder()\n",
    "    # df_brand.brand = df_brand.brand.str.lower()\n",
    "    # df_brand.brand = df_brand.brand.str.replace(' ', '')\n",
    "    # df_brand[\"brand\"] = df_brand[[\"brand\"]].replace(brand_to_num)[\"brand\"]\n",
    "    # df_brand.brand = df_brand[\"brand\"].astype(int)\n",
    "    \n",
    "    # print(len(df_brand.brand.unique()))\n",
    "    train = list(map(list, zip(df_class[\"image_tensor\"].values, df_class[\"class\"].values)))\n",
    "    \n",
    "    random.shuffle(train)\n",
    "    val_split = int(len(train)*0.8)\n",
    "    test_split = int(len(train)*0.9)\n",
    "    val = train[val_split:test_split]\n",
    "    test = train[test_split:]\n",
    "    train = train[:val_split]\n",
    "    # print(train[0])\n",
    "    # print(train[0][0])\n",
    "    # train, val = train_test_split(train, test_size=0.2)\n",
    "    # train, test = train_test_split(train, test_size=0.1)\n",
    "\n",
    "    train_generator = data.DataLoader(train, batch_size=64)\n",
    "    test_generator = data.DataLoader(test, batch_size=64)\n",
    "    val_generator = data.DataLoader(val, batch_size=64)\n",
    "    \n",
    "    return train_generator, test_generator, val_generator, val\n",
    "    "
   ]
  },
  {
   "cell_type": "code",
   "execution_count": 13,
   "metadata": {},
   "outputs": [],
   "source": [
    "def save_checkpoint(model, optimizer, save_path, epoch):\n",
    "    torch.save({\n",
    "        'model_state_dict': model.state_dict(),\n",
    "        'optimizer_state_dict': optimizer.state_dict(),\n",
    "        'epoch' : epoch\n",
    "    }, save_path)"
   ]
  },
  {
   "cell_type": "code",
   "execution_count": 14,
   "metadata": {},
   "outputs": [],
   "source": [
    "def load_checkpoint(model, optimizer, load_path):\n",
    "    checkpoint = torch.load(load_path)\n",
    "    model.load_state_dict(checkpoint['model_state_dict'])\n",
    "    optimizer.load_state_dict(checkpoint['optimizer_state_dict'])\n",
    "    return model, optimizer"
   ]
  },
  {
   "cell_type": "code",
   "execution_count": null,
   "metadata": {},
   "outputs": [],
   "source": []
  },
  {
   "cell_type": "code",
   "execution_count": 15,
   "metadata": {
    "gradient": {
     "editing": false,
     "id": "cb034852-b0b2-44f4-b06c-fa4521d4ac33",
     "kernelId": "4f378984-b18d-4458-aec5-11036b1449fe"
    },
    "scrolled": true,
    "tags": []
   },
   "outputs": [
    {
     "name": "stdout",
     "output_type": "stream",
     "text": [
      "Epoch 1/1000\n",
      "----------\n",
      "File 0/50\n",
      "----------\n"
     ]
    },
    {
     "name": "stderr",
     "output_type": "stream",
     "text": [
      "  0%|                                                    | 0/24 [00:00<?, ?it/s]/pytorch/aten/src/ATen/native/cuda/Loss.cu:247: nll_loss_forward_reduce_cuda_kernel_2d: block: [0,0,0], thread: [0,0,0] Assertion `t >= 0 && t < n_classes` failed.\n",
      "/pytorch/aten/src/ATen/native/cuda/Loss.cu:247: nll_loss_forward_reduce_cuda_kernel_2d: block: [0,0,0], thread: [11,0,0] Assertion `t >= 0 && t < n_classes` failed.\n",
      "  0%|                                                    | 0/24 [00:00<?, ?it/s]\n"
     ]
    },
    {
     "ename": "RuntimeError",
     "evalue": "CUDA error: device-side assert triggered\nCUDA kernel errors might be asynchronously reported at some other API call,so the stacktrace below might be incorrect.\nFor debugging consider passing CUDA_LAUNCH_BLOCKING=1.",
     "output_type": "error",
     "traceback": [
      "\u001b[0;31m---------------------------------------------------------------------------\u001b[0m",
      "\u001b[0;31mRuntimeError\u001b[0m                              Traceback (most recent call last)",
      "Input \u001b[0;32mIn [15]\u001b[0m, in \u001b[0;36m<module>\u001b[0;34m\u001b[0m\n\u001b[1;32m     66\u001b[0m     optimizer\u001b[38;5;241m.\u001b[39mstep()\n\u001b[1;32m     67\u001b[0m     \u001b[38;5;66;03m# avg_loss = (avg_loss + loss.item()) / (step + 1)\u001b[39;00m\n\u001b[0;32m---> 68\u001b[0m     running_avg_loss \u001b[38;5;241m+\u001b[39m\u001b[38;5;241m=\u001b[39m \u001b[43mloss\u001b[49m\u001b[38;5;241;43m.\u001b[39;49m\u001b[43mitem\u001b[49m\u001b[43m(\u001b[49m\u001b[43m)\u001b[49m\n\u001b[1;32m     69\u001b[0m     pbar\u001b[38;5;241m.\u001b[39mset_description(\u001b[38;5;124m\"\u001b[39m\u001b[38;5;124mAvg Loss: \u001b[39m\u001b[38;5;124m\"\u001b[39m \u001b[38;5;241m+\u001b[39m \u001b[38;5;28mstr\u001b[39m(running_avg_loss \u001b[38;5;241m/\u001b[39m (step \u001b[38;5;241m+\u001b[39m \u001b[38;5;241m1\u001b[39m)))\n\u001b[1;32m     71\u001b[0m     \u001b[38;5;66;03m# statistics\u001b[39;00m\n\u001b[1;32m     72\u001b[0m     \u001b[38;5;66;03m# running_loss += loss.item() * inputs.size(0)\u001b[39;00m\n\u001b[1;32m     73\u001b[0m     \u001b[38;5;66;03m# running_corrects += torch.sum(preds == labels.data)\u001b[39;00m\n\u001b[0;32m   (...)\u001b[0m\n\u001b[1;32m     78\u001b[0m \u001b[38;5;66;03m#     print('number of dims dont match in permute')\u001b[39;00m\n\u001b[1;32m     79\u001b[0m \u001b[38;5;66;03m#     continue\u001b[39;00m\n",
      "\u001b[0;31mRuntimeError\u001b[0m: CUDA error: device-side assert triggered\nCUDA kernel errors might be asynchronously reported at some other API call,so the stacktrace below might be incorrect.\nFor debugging consider passing CUDA_LAUNCH_BLOCKING=1."
     ]
    }
   ],
   "source": [
    "num_epochs = 1000\n",
    "best_acc = 0\n",
    "losses = []\n",
    "scores = []\n",
    "best_model_wts = None\n",
    "model_path = 'class_model.pt'\n",
    "start = time.time()\n",
    "\n",
    "files = list_files(directory)\n",
    "optimizer = optim.Adam(model.parameters(), lr=0.01)\n",
    "# model, optimizer = load_checkpoint(model, optimizer, model_path)\n",
    "\n",
    "for epoch in range(num_epochs):\n",
    "    print('Epoch {}/{}'.format(epoch + 1, num_epochs))\n",
    "    print('-' * 10)\n",
    "    \n",
    "    optimizer = optim.Adam(model.parameters(), lr=0.01)\n",
    "    # model, optimizer = load_checkpoint(model, optimizer, model_path)\n",
    "    file_num = 0\n",
    "    \n",
    "    \n",
    "    for file in files:\n",
    "        print('File {}/{}'.format(file_num, len(files)))\n",
    "        print('-' * 10)\n",
    "        \n",
    "        file_num += 1\n",
    "        # try:\n",
    "        train_generator, test_generator, val_generator, val = preprocess(file)\n",
    "\n",
    "        pbar = tqdm(train_generator)\n",
    "        running_avg_loss = 0\n",
    "        for step, batch in enumerate(pbar):\n",
    "            model.train()\n",
    "            inputs, labels = batch\n",
    "            inputs = inputs.to(torch.float)\n",
    "            inputs = inputs.to(device)\n",
    "            labels = labels.to(device)\n",
    "\n",
    "\n",
    "            # zero the parameter gradients\n",
    "            optimizer.zero_grad()\n",
    "\n",
    "            # forward\n",
    "            # track history if only in train\n",
    "            # with torch.set_grad_enabled(phase == 'train'):\n",
    "            '''images = []\n",
    "            for image_path in inputs:\n",
    "                img = Image.open(os.path.join(image_dir, image_path))\n",
    "                images.append(transforms.ToTensor()(img))'''\n",
    "\n",
    "            #print(tuple(images)[0])\n",
    "            # print(labels)\n",
    "\n",
    "            outputs = model(inputs)\n",
    "\n",
    "            # _, preds = torch.max(outputs, 1)\n",
    "            # print(labels)\n",
    "            # print(outputs)\n",
    "            # print(outputs.shape)\n",
    "            loss = nn.CrossEntropyLoss()(outputs, labels)\n",
    "            # print(loss)\n",
    "            # backward + optimize only if in training phase\n",
    "            loss.backward()\n",
    "            # print(loss)\n",
    "            # pbar.set_description(str(loss.item()))\n",
    "            optimizer.step()\n",
    "            # avg_loss = (avg_loss + loss.item()) / (step + 1)\n",
    "            running_avg_loss += loss.item()\n",
    "            pbar.set_description(\"Avg Loss: \" + str(running_avg_loss / (step + 1)))\n",
    "\n",
    "            # statistics\n",
    "            # running_loss += loss.item() * inputs.size(0)\n",
    "            # running_corrects += torch.sum(preds == labels.data)\n",
    "            # scheduler.step()\n",
    "\n",
    "             #NOTE: need to fix validation because this val_generator only covers 1 file, not all 50   \n",
    "        # except(RuntimeError):\n",
    "        #     print('number of dims dont match in permute')\n",
    "        #     continue\n",
    "            \n",
    "        epoch_acc = test_model(model, val_generator)\n",
    "        if epoch_acc > best_acc:\n",
    "            best_acc = epoch_acc\n",
    "            best_model_wts = copy.deepcopy(model.state_dict())\n",
    "        print(\"validation accuracy:\", epoch_acc)\n",
    "        scores.append(epoch_acc)\n",
    "        #losses.append(running_avg_loss / len(train_generator))\n",
    "        print()\n",
    "        \n",
    "    save_checkpoint(model, optimizer, model_path, epoch)\n"
   ]
  },
  {
   "cell_type": "code",
   "execution_count": null,
   "metadata": {
    "gradient": {
     "editing": false,
     "id": "937a4285-061a-44cf-b15b-8284ea48b336",
     "kernelId": "4f378984-b18d-4458-aec5-11036b1449fe"
    }
   },
   "outputs": [],
   "source": [
    "end = time.time()\n",
    "print(f\"The model took {(end - start) // 60} minutes to train.\")"
   ]
  },
  {
   "cell_type": "code",
   "execution_count": null,
   "metadata": {},
   "outputs": [],
   "source": [
    "df = df.dropna()"
   ]
  },
  {
   "cell_type": "code",
   "execution_count": null,
   "metadata": {},
   "outputs": [],
   "source": [
    "ex = preprocess(\"image_splits_v2/split_0.pkl\")\n",
    "tqdm(ex[0])"
   ]
  },
  {
   "cell_type": "code",
   "execution_count": null,
   "metadata": {},
   "outputs": [],
   "source": [
    "# d = dict(enumerate(k.flatten(), 1))\n",
    "# d = str(d) ## dump as string  (pickle and other packages parse the dump as bytes)\n",
    "\n",
    "m = ast.literal_eval(example1) ### convert the dict as str to  dict\n",
    "\n",
    "m = np.fromiter(m.values(), dtype=float) ## convert m to nparray"
   ]
  },
  {
   "cell_type": "code",
   "execution_count": null,
   "metadata": {},
   "outputs": [],
   "source": [
    "a"
   ]
  },
  {
   "cell_type": "code",
   "execution_count": null,
   "metadata": {},
   "outputs": [],
   "source": [
    "np.fromstring(example1)"
   ]
  },
  {
   "cell_type": "code",
   "execution_count": null,
   "metadata": {},
   "outputs": [],
   "source": []
  },
  {
   "cell_type": "code",
   "execution_count": null,
   "metadata": {},
   "outputs": [],
   "source": []
  }
 ],
 "metadata": {
  "kernelspec": {
   "display_name": "Python 3 (ipykernel)",
   "language": "python",
   "name": "python3"
  },
  "language_info": {
   "codemirror_mode": {
    "name": "ipython",
    "version": 3
   },
   "file_extension": ".py",
   "mimetype": "text/x-python",
   "name": "python",
   "nbconvert_exporter": "python",
   "pygments_lexer": "ipython3",
   "version": "3.8.10"
  }
 },
 "nbformat": 4,
 "nbformat_minor": 4
}
