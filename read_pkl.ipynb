{
 "cells": [
  {
   "cell_type": "markdown",
   "id": "b45c7c78-30ca-4a5a-a0e6-17ccd246ab5f",
   "metadata": {},
   "source": [
    "This notebook tests how long it takes to read a .pkl file containing ~2000 images. From the bottom, it takes around ~0.17 minutes."
   ]
  },
  {
   "cell_type": "code",
   "execution_count": 3,
   "id": "9bd85cdd-cbfd-4739-a8a4-3c3649a409dd",
   "metadata": {},
   "outputs": [],
   "source": [
    "import pandas as pd\n",
    "import numpy as np\n",
    "import pickle, pprint\n",
    "\n",
    "import warnings\n",
    "warnings.filterwarnings(\"ignore\")"
   ]
  },
  {
   "cell_type": "code",
   "execution_count": 4,
   "id": "34fa3320-303c-4c34-bf56-9a362b855372",
   "metadata": {},
   "outputs": [],
   "source": [
    "def read_make_image_splits(file):\n",
    "    \"\"\"\n",
    "        given a .pkl file, returns a 3D numpy array\n",
    "    \"\"\"\n",
    "\n",
    "    pkl_file = open(file, 'rb')\n",
    "\n",
    "    data1 = pickle.load(pkl_file)\n",
    "    pkl_file.close()\n",
    "\n",
    "    return data1"
   ]
  },
  {
   "cell_type": "code",
   "execution_count": 14,
   "id": "b5a6a77e-ba13-4f1e-8c54-01368f06cadf",
   "metadata": {},
   "outputs": [
    {
     "name": "stdout",
     "output_type": "stream",
     "text": [
      "it took 0.015229066212972006 minutes to read a split file!\n"
     ]
    }
   ],
   "source": [
    "import time\n",
    "s = time.time()\n",
    "d = read_make_image_splits(\"image_splits_v2/split_1.pkl\")\n",
    "e = time.time()\n",
    "\n",
    "print(f\"it took {(e-s)/60} minutes to read a split file!\")"
   ]
  }
 ],
 "metadata": {
  "kernelspec": {
   "display_name": "Python 3 (ipykernel)",
   "language": "python",
   "name": "python3"
  },
  "language_info": {
   "codemirror_mode": {
    "name": "ipython",
    "version": 3
   },
   "file_extension": ".py",
   "mimetype": "text/x-python",
   "name": "python",
   "nbconvert_exporter": "python",
   "pygments_lexer": "ipython3",
   "version": "3.8.10"
  }
 },
 "nbformat": 4,
 "nbformat_minor": 5
}
