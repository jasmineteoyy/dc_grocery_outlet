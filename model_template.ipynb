{
 "cells": [
  {
   "cell_type": "code",
   "execution_count": null,
   "id": "e99a6362-3d9e-48cd-84f2-ef6de1a938f2",
   "metadata": {},
   "outputs": [],
   "source": [
    "import torch\n",
    "import torch.nn as nn\n",
    "import torch.optim as optim\n",
    "from torch.optim import lr_scheduler\n",
    "from torch.utils import data\n",
    "import torch.backends.cudnn as cudnn\n",
    "import numpy as np\n",
    "import torchvision\n",
    "from torchvision import datasets, models, transforms\n",
    "import matplotlib.pyplot as plt\n",
    "import time\n",
    "import os\n",
    "import copy\n",
    "from PIL import Image\n",
    "\n",
    "import pprint, pickle\n",
    "\n",
    "\n",
    "import pandas as pd\n",
    "import numpy as np\n",
    "from sklearn.model_selection import train_test_split\n",
    "from sklearn.preprocessing import LabelEncoder\n",
    "from tqdm import tqdm\n",
    "\n",
    "from model import *\n",
    "\n",
    "import warnings\n",
    "warnings.filterwarnings(\"ignore\")"
   ]
  },
  {
   "cell_type": "markdown",
   "id": "30956c73-fd9c-4b84-bfdb-5bcb7e9bc6b9",
   "metadata": {},
   "source": [
    "### define model and directory of data"
   ]
  },
  {
   "cell_type": "code",
   "execution_count": null,
   "id": "2f78c77f-1982-499c-bc0f-2a39f70ae37b",
   "metadata": {},
   "outputs": [],
   "source": [
    "directory = \"/home/paperspace/Documents/image_splits_v2\"\n",
    "device = get_device()\n",
    "num_out_ftrs = get_out_features()\n",
    "model = "
   ]
  },
  {
   "cell_type": "markdown",
   "id": "1e0c9cb4-88d8-40ab-8238-080c16d3f112",
   "metadata": {},
   "source": [
    "### train model"
   ]
  },
  {
   "cell_type": "code",
   "execution_count": null,
   "id": "d2ae040e-2b24-4fbd-8322-537d0ed2d4b0",
   "metadata": {},
   "outputs": [],
   "source": [
    "model, best_weights = train_model(model, directory)"
   ]
  }
 ],
 "metadata": {
  "kernelspec": {
   "display_name": "Python 3 (ipykernel)",
   "language": "python",
   "name": "python3"
  },
  "language_info": {
   "codemirror_mode": {
    "name": "ipython",
    "version": 3
   },
   "file_extension": ".py",
   "mimetype": "text/x-python",
   "name": "python",
   "nbconvert_exporter": "python",
   "pygments_lexer": "ipython3",
   "version": "3.8.10"
  }
 },
 "nbformat": 4,
 "nbformat_minor": 5
}
